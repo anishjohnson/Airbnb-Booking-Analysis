{
  "nbformat": 4,
  "nbformat_minor": 0,
  "metadata": {
    "kernelspec": {
      "display_name": "Python 3",
      "language": "python",
      "name": "python3"
    },
    "language_info": {
      "codemirror_mode": {
        "name": "ipython",
        "version": 3
      },
      "file_extension": ".py",
      "mimetype": "text/x-python",
      "name": "python",
      "nbconvert_exporter": "python",
      "pygments_lexer": "ipython3",
      "version": "3.6.6"
    },
    "colab": {
      "name": "Anish Johnson - NYC Taxi Trip Time Prediction - Capstone Project.ipynb",
      "provenance": [],
      "collapsed_sections": [
        "_19R87QJiBSe",
        "ZEWqJriciVng",
        "HITocEHRxNri"
      ],
      "include_colab_link": true
    }
  },
  "cells": [
    {
      "cell_type": "markdown",
      "metadata": {
        "id": "view-in-github",
        "colab_type": "text"
      },
      "source": [
        "<a href=\"https://colab.research.google.com/github/anishjohnson/Airbnb-Booking-Analysis/blob/main/Anish_Johnson_NYC_Taxi_Trip_Time_Prediction_Capstone_Project.ipynb\" target=\"_parent\"><img src=\"https://colab.research.google.com/assets/colab-badge.svg\" alt=\"Open In Colab\"/></a>"
      ]
    },
    {
      "cell_type": "markdown",
      "metadata": {
        "id": "tOGC-qoyhJeX"
      },
      "source": [
        "# <b><u> Project Title : Taxi trip time Prediction : Predicting total ride duration of taxi trips in New York City</u></b>"
      ]
    },
    {
      "cell_type": "markdown",
      "metadata": {
        "id": "Y06xIdG26kRF"
      },
      "source": [
        "## <b> Problem Description </b>\n",
        "\n",
        "### Your task is to build a model that predicts the total ride duration of taxi trips in New York City. Your primary dataset is one released by the NYC Taxi and Limousine Commission, which includes pickup time, geo-coordinates, number of passengers, and several other variables."
      ]
    },
    {
      "cell_type": "markdown",
      "metadata": {
        "id": "WWeU1f9bwqQq"
      },
      "source": [
        "## <b> Data Description </b>\n",
        "\n",
        "### The dataset is based on the 2016 NYC Yellow Cab trip record data made available in Big Query on Google Cloud Platform. The data was originally published by the NYC Taxi and Limousine Commission (TLC). The data was sampled and cleaned for the purposes of this project. Based on individual trip attributes, you should predict the duration of each trip in the test set.\n",
        "\n",
        "### <b>NYC Taxi Data.csv</b> - the training set (contains 1458644 trip records)\n",
        "\n",
        "\n",
        "### Data fields\n",
        "* #### id - a unique identifier for each trip\n",
        "* #### vendor_id - a code indicating the provider associated with the trip record\n",
        "* #### pickup_datetime - date and time when the meter was engaged\n",
        "* #### dropoff_datetime - date and time when the meter was disengaged\n",
        "* #### passenger_count - the number of passengers in the vehicle (driver entered value)\n",
        "* #### pickup_longitude - the longitude where the meter was engaged\n",
        "* #### pickup_latitude - the latitude where the meter was engaged\n",
        "* #### dropoff_longitude - the longitude where the meter was disengaged\n",
        "* #### dropoff_latitude - the latitude where the meter was disengaged\n",
        "* #### store_and_fwd_flag - This flag indicates whether the trip record was held in vehicle memory before sending to the vendor because the vehicle did not have a connection to the server - Y=store and forward; N=not a store and forward trip\n",
        "* #### trip_duration - duration of the trip in seconds"
      ]
    },
    {
      "cell_type": "markdown",
      "source": [
        "# **Import libraries and data.** 📥"
      ],
      "metadata": {
        "id": "_19R87QJiBSe"
      }
    },
    {
      "cell_type": "code",
      "source": [
        "# import the libraries.\n",
        "import numpy as np\n",
        "import pandas as pd\n",
        "import seaborn as sns\n",
        "import matplotlib.pyplot as plt\n",
        "import plotly.graph_objects as go\n",
        "\n",
        "import warnings\n",
        "warnings.filterwarnings(\"ignore\")"
      ],
      "metadata": {
        "id": "KcSgbDZ5fBnr"
      },
      "execution_count": 1,
      "outputs": []
    },
    {
      "cell_type": "code",
      "metadata": {
        "id": "dByMsuzT8Tnw",
        "colab": {
          "base_uri": "https://localhost:8080/"
        },
        "outputId": "9e1329ac-a141-45e4-be32-90c89bc7f744"
      },
      "source": [
        "# Mount the drive.\n",
        "from google.colab import drive\n",
        "drive.mount('/content/drive/')\n",
        "\n",
        "# Load the data.\n",
        "nyc_df = pd.read_csv('/content/drive/MyDrive/Capstone data files/NYC Taxi Data.csv')"
      ],
      "execution_count": 2,
      "outputs": [
        {
          "output_type": "stream",
          "name": "stdout",
          "text": [
            "Mounted at /content/drive/\n"
          ]
        }
      ]
    },
    {
      "cell_type": "markdown",
      "source": [
        "# **First look at the data.** 🔢🔠🔣"
      ],
      "metadata": {
        "id": "ZEWqJriciVng"
      }
    },
    {
      "cell_type": "code",
      "source": [
        "# Show us the data.\n",
        "nyc_df.head()"
      ],
      "metadata": {
        "colab": {
          "base_uri": "https://localhost:8080/",
          "height": 0
        },
        "id": "6MUr4qj9pW_Y",
        "outputId": "2887806e-c212-4279-9591-0aba98a2f253"
      },
      "execution_count": 3,
      "outputs": [
        {
          "output_type": "execute_result",
          "data": {
            "text/html": [
              "<div>\n",
              "<style scoped>\n",
              "    .dataframe tbody tr th:only-of-type {\n",
              "        vertical-align: middle;\n",
              "    }\n",
              "\n",
              "    .dataframe tbody tr th {\n",
              "        vertical-align: top;\n",
              "    }\n",
              "\n",
              "    .dataframe thead th {\n",
              "        text-align: right;\n",
              "    }\n",
              "</style>\n",
              "<table border=\"1\" class=\"dataframe\">\n",
              "  <thead>\n",
              "    <tr style=\"text-align: right;\">\n",
              "      <th></th>\n",
              "      <th>id</th>\n",
              "      <th>vendor_id</th>\n",
              "      <th>pickup_datetime</th>\n",
              "      <th>dropoff_datetime</th>\n",
              "      <th>passenger_count</th>\n",
              "      <th>pickup_longitude</th>\n",
              "      <th>pickup_latitude</th>\n",
              "      <th>dropoff_longitude</th>\n",
              "      <th>dropoff_latitude</th>\n",
              "      <th>store_and_fwd_flag</th>\n",
              "      <th>trip_duration</th>\n",
              "    </tr>\n",
              "  </thead>\n",
              "  <tbody>\n",
              "    <tr>\n",
              "      <th>0</th>\n",
              "      <td>id2875421</td>\n",
              "      <td>2</td>\n",
              "      <td>2016-03-14 17:24:55</td>\n",
              "      <td>2016-03-14 17:32:30</td>\n",
              "      <td>1</td>\n",
              "      <td>-73.982155</td>\n",
              "      <td>40.767937</td>\n",
              "      <td>-73.964630</td>\n",
              "      <td>40.765602</td>\n",
              "      <td>N</td>\n",
              "      <td>455</td>\n",
              "    </tr>\n",
              "    <tr>\n",
              "      <th>1</th>\n",
              "      <td>id2377394</td>\n",
              "      <td>1</td>\n",
              "      <td>2016-06-12 00:43:35</td>\n",
              "      <td>2016-06-12 00:54:38</td>\n",
              "      <td>1</td>\n",
              "      <td>-73.980415</td>\n",
              "      <td>40.738564</td>\n",
              "      <td>-73.999481</td>\n",
              "      <td>40.731152</td>\n",
              "      <td>N</td>\n",
              "      <td>663</td>\n",
              "    </tr>\n",
              "    <tr>\n",
              "      <th>2</th>\n",
              "      <td>id3858529</td>\n",
              "      <td>2</td>\n",
              "      <td>2016-01-19 11:35:24</td>\n",
              "      <td>2016-01-19 12:10:48</td>\n",
              "      <td>1</td>\n",
              "      <td>-73.979027</td>\n",
              "      <td>40.763939</td>\n",
              "      <td>-74.005333</td>\n",
              "      <td>40.710087</td>\n",
              "      <td>N</td>\n",
              "      <td>2124</td>\n",
              "    </tr>\n",
              "    <tr>\n",
              "      <th>3</th>\n",
              "      <td>id3504673</td>\n",
              "      <td>2</td>\n",
              "      <td>2016-04-06 19:32:31</td>\n",
              "      <td>2016-04-06 19:39:40</td>\n",
              "      <td>1</td>\n",
              "      <td>-74.010040</td>\n",
              "      <td>40.719971</td>\n",
              "      <td>-74.012268</td>\n",
              "      <td>40.706718</td>\n",
              "      <td>N</td>\n",
              "      <td>429</td>\n",
              "    </tr>\n",
              "    <tr>\n",
              "      <th>4</th>\n",
              "      <td>id2181028</td>\n",
              "      <td>2</td>\n",
              "      <td>2016-03-26 13:30:55</td>\n",
              "      <td>2016-03-26 13:38:10</td>\n",
              "      <td>1</td>\n",
              "      <td>-73.973053</td>\n",
              "      <td>40.793209</td>\n",
              "      <td>-73.972923</td>\n",
              "      <td>40.782520</td>\n",
              "      <td>N</td>\n",
              "      <td>435</td>\n",
              "    </tr>\n",
              "  </tbody>\n",
              "</table>\n",
              "</div>"
            ],
            "text/plain": [
              "          id  vendor_id  ... store_and_fwd_flag trip_duration\n",
              "0  id2875421          2  ...                  N           455\n",
              "1  id2377394          1  ...                  N           663\n",
              "2  id3858529          2  ...                  N          2124\n",
              "3  id3504673          2  ...                  N           429\n",
              "4  id2181028          2  ...                  N           435\n",
              "\n",
              "[5 rows x 11 columns]"
            ]
          },
          "metadata": {},
          "execution_count": 3
        }
      ]
    },
    {
      "cell_type": "code",
      "source": [
        "nyc_df.tail()"
      ],
      "metadata": {
        "colab": {
          "base_uri": "https://localhost:8080/",
          "height": 0
        },
        "id": "fKSkLBJXpgAK",
        "outputId": "f9cfcf78-053f-4525-bfd9-5d23ac170725"
      },
      "execution_count": 4,
      "outputs": [
        {
          "output_type": "execute_result",
          "data": {
            "text/html": [
              "<div>\n",
              "<style scoped>\n",
              "    .dataframe tbody tr th:only-of-type {\n",
              "        vertical-align: middle;\n",
              "    }\n",
              "\n",
              "    .dataframe tbody tr th {\n",
              "        vertical-align: top;\n",
              "    }\n",
              "\n",
              "    .dataframe thead th {\n",
              "        text-align: right;\n",
              "    }\n",
              "</style>\n",
              "<table border=\"1\" class=\"dataframe\">\n",
              "  <thead>\n",
              "    <tr style=\"text-align: right;\">\n",
              "      <th></th>\n",
              "      <th>id</th>\n",
              "      <th>vendor_id</th>\n",
              "      <th>pickup_datetime</th>\n",
              "      <th>dropoff_datetime</th>\n",
              "      <th>passenger_count</th>\n",
              "      <th>pickup_longitude</th>\n",
              "      <th>pickup_latitude</th>\n",
              "      <th>dropoff_longitude</th>\n",
              "      <th>dropoff_latitude</th>\n",
              "      <th>store_and_fwd_flag</th>\n",
              "      <th>trip_duration</th>\n",
              "    </tr>\n",
              "  </thead>\n",
              "  <tbody>\n",
              "    <tr>\n",
              "      <th>1458639</th>\n",
              "      <td>id2376096</td>\n",
              "      <td>2</td>\n",
              "      <td>2016-04-08 13:31:04</td>\n",
              "      <td>2016-04-08 13:44:02</td>\n",
              "      <td>4</td>\n",
              "      <td>-73.982201</td>\n",
              "      <td>40.745522</td>\n",
              "      <td>-73.994911</td>\n",
              "      <td>40.740170</td>\n",
              "      <td>N</td>\n",
              "      <td>778</td>\n",
              "    </tr>\n",
              "    <tr>\n",
              "      <th>1458640</th>\n",
              "      <td>id1049543</td>\n",
              "      <td>1</td>\n",
              "      <td>2016-01-10 07:35:15</td>\n",
              "      <td>2016-01-10 07:46:10</td>\n",
              "      <td>1</td>\n",
              "      <td>-74.000946</td>\n",
              "      <td>40.747379</td>\n",
              "      <td>-73.970184</td>\n",
              "      <td>40.796547</td>\n",
              "      <td>N</td>\n",
              "      <td>655</td>\n",
              "    </tr>\n",
              "    <tr>\n",
              "      <th>1458641</th>\n",
              "      <td>id2304944</td>\n",
              "      <td>2</td>\n",
              "      <td>2016-04-22 06:57:41</td>\n",
              "      <td>2016-04-22 07:10:25</td>\n",
              "      <td>1</td>\n",
              "      <td>-73.959129</td>\n",
              "      <td>40.768799</td>\n",
              "      <td>-74.004433</td>\n",
              "      <td>40.707371</td>\n",
              "      <td>N</td>\n",
              "      <td>764</td>\n",
              "    </tr>\n",
              "    <tr>\n",
              "      <th>1458642</th>\n",
              "      <td>id2714485</td>\n",
              "      <td>1</td>\n",
              "      <td>2016-01-05 15:56:26</td>\n",
              "      <td>2016-01-05 16:02:39</td>\n",
              "      <td>1</td>\n",
              "      <td>-73.982079</td>\n",
              "      <td>40.749062</td>\n",
              "      <td>-73.974632</td>\n",
              "      <td>40.757107</td>\n",
              "      <td>N</td>\n",
              "      <td>373</td>\n",
              "    </tr>\n",
              "    <tr>\n",
              "      <th>1458643</th>\n",
              "      <td>id1209952</td>\n",
              "      <td>1</td>\n",
              "      <td>2016-04-05 14:44:25</td>\n",
              "      <td>2016-04-05 14:47:43</td>\n",
              "      <td>1</td>\n",
              "      <td>-73.979538</td>\n",
              "      <td>40.781750</td>\n",
              "      <td>-73.972809</td>\n",
              "      <td>40.790585</td>\n",
              "      <td>N</td>\n",
              "      <td>198</td>\n",
              "    </tr>\n",
              "  </tbody>\n",
              "</table>\n",
              "</div>"
            ],
            "text/plain": [
              "                id  vendor_id  ... store_and_fwd_flag trip_duration\n",
              "1458639  id2376096          2  ...                  N           778\n",
              "1458640  id1049543          1  ...                  N           655\n",
              "1458641  id2304944          2  ...                  N           764\n",
              "1458642  id2714485          1  ...                  N           373\n",
              "1458643  id1209952          1  ...                  N           198\n",
              "\n",
              "[5 rows x 11 columns]"
            ]
          },
          "metadata": {},
          "execution_count": 4
        }
      ]
    },
    {
      "cell_type": "code",
      "source": [
        "# Check the shape of our data.\n",
        "shape = nyc_df.shape\n",
        "print(f'The dataset contains {shape[0]} rows and {shape[1]} columns.')"
      ],
      "metadata": {
        "colab": {
          "base_uri": "https://localhost:8080/"
        },
        "id": "VKLHkC4Ph0hm",
        "outputId": "ebeb1586-26ff-46c8-9d91-4444c99fd2d1"
      },
      "execution_count": 5,
      "outputs": [
        {
          "output_type": "stream",
          "name": "stdout",
          "text": [
            "The dataset contains 1458644 rows and 11 columns.\n"
          ]
        }
      ]
    },
    {
      "cell_type": "code",
      "source": [
        "# Check if it contains null values.\n",
        "nyc_df.isnull().sum()"
      ],
      "metadata": {
        "colab": {
          "base_uri": "https://localhost:8080/"
        },
        "id": "fVJ8Sr06jZ0J",
        "outputId": "53ef76f4-72fc-476b-fa5e-92cff4b8f0f3"
      },
      "execution_count": 6,
      "outputs": [
        {
          "output_type": "execute_result",
          "data": {
            "text/plain": [
              "id                    0\n",
              "vendor_id             0\n",
              "pickup_datetime       0\n",
              "dropoff_datetime      0\n",
              "passenger_count       0\n",
              "pickup_longitude      0\n",
              "pickup_latitude       0\n",
              "dropoff_longitude     0\n",
              "dropoff_latitude      0\n",
              "store_and_fwd_flag    0\n",
              "trip_duration         0\n",
              "dtype: int64"
            ]
          },
          "metadata": {},
          "execution_count": 6
        }
      ]
    },
    {
      "cell_type": "markdown",
      "source": [
        "***Wow! The data consists zero null values, good for us.***"
      ],
      "metadata": {
        "id": "7iATzf6ojszH"
      }
    },
    {
      "cell_type": "code",
      "source": [
        "# Only originals needed, remove the duplicates.\n",
        "duplicates = nyc_df.duplicated().sum()\n",
        "\n",
        "if duplicates == 0:\n",
        "  print('No duplicates exist we are good to go.👌')\n",
        "else:\n",
        "  print(duplicates,'exist remove them.')"
      ],
      "metadata": {
        "colab": {
          "base_uri": "https://localhost:8080/"
        },
        "id": "sfcQafF3kZOb",
        "outputId": "546e2c4d-56f3-4c5c-9800-37b7a1277ef2"
      },
      "execution_count": 7,
      "outputs": [
        {
          "output_type": "stream",
          "name": "stdout",
          "text": [
            "No duplicates exist we are good to go.👌\n"
          ]
        }
      ]
    },
    {
      "cell_type": "code",
      "source": [
        "# Reveal information about the data.\n",
        "nyc_df.info()"
      ],
      "metadata": {
        "colab": {
          "base_uri": "https://localhost:8080/"
        },
        "id": "ENKAMXBbmUQF",
        "outputId": "ff147f5e-7537-458e-8339-6ac608bcb664"
      },
      "execution_count": 8,
      "outputs": [
        {
          "output_type": "stream",
          "name": "stdout",
          "text": [
            "<class 'pandas.core.frame.DataFrame'>\n",
            "RangeIndex: 1458644 entries, 0 to 1458643\n",
            "Data columns (total 11 columns):\n",
            " #   Column              Non-Null Count    Dtype  \n",
            "---  ------              --------------    -----  \n",
            " 0   id                  1458644 non-null  object \n",
            " 1   vendor_id           1458644 non-null  int64  \n",
            " 2   pickup_datetime     1458644 non-null  object \n",
            " 3   dropoff_datetime    1458644 non-null  object \n",
            " 4   passenger_count     1458644 non-null  int64  \n",
            " 5   pickup_longitude    1458644 non-null  float64\n",
            " 6   pickup_latitude     1458644 non-null  float64\n",
            " 7   dropoff_longitude   1458644 non-null  float64\n",
            " 8   dropoff_latitude    1458644 non-null  float64\n",
            " 9   store_and_fwd_flag  1458644 non-null  object \n",
            " 10  trip_duration       1458644 non-null  int64  \n",
            "dtypes: float64(4), int64(3), object(4)\n",
            "memory usage: 122.4+ MB\n"
          ]
        }
      ]
    },
    {
      "cell_type": "markdown",
      "source": [
        "***What info did it reveal*** 🤔***?***\n",
        "* *id can be dropped - as every ride would have different id it would'nt give any useful insight.*\n",
        "* *pickup_datetime and dropoff_time need to be changed to datetime format - currently they are in string (object) format.*\n",
        "* *Currently 7 numerical and 4 categorical features exist.*"
      ],
      "metadata": {
        "id": "0mJZeQKHmsiw"
      }
    },
    {
      "cell_type": "code",
      "source": [
        "# Drop id.\n",
        "nyc_df.drop('id', inplace=True, axis=1)"
      ],
      "metadata": {
        "id": "Yuo7PSM7tf-S"
      },
      "execution_count": 9,
      "outputs": []
    },
    {
      "cell_type": "code",
      "source": [
        "# Change format for pickup_datetime and dropoff_time.\n",
        "nyc_df['pickup_datetime'] = pd.to_datetime(nyc_df['pickup_datetime'])\n",
        "nyc_df['dropoff_datetime'] = pd.to_datetime(nyc_df['dropoff_datetime'])"
      ],
      "metadata": {
        "id": "NHUGZ510twQb"
      },
      "execution_count": 10,
      "outputs": []
    },
    {
      "cell_type": "code",
      "source": [
        "# Recheck if formats been changed.\n",
        "nyc_df.info()"
      ],
      "metadata": {
        "colab": {
          "base_uri": "https://localhost:8080/"
        },
        "id": "dZRGwiigwniR",
        "outputId": "cd3447cb-f88f-4731-9611-6d8930290330"
      },
      "execution_count": 11,
      "outputs": [
        {
          "output_type": "stream",
          "name": "stdout",
          "text": [
            "<class 'pandas.core.frame.DataFrame'>\n",
            "RangeIndex: 1458644 entries, 0 to 1458643\n",
            "Data columns (total 10 columns):\n",
            " #   Column              Non-Null Count    Dtype         \n",
            "---  ------              --------------    -----         \n",
            " 0   vendor_id           1458644 non-null  int64         \n",
            " 1   pickup_datetime     1458644 non-null  datetime64[ns]\n",
            " 2   dropoff_datetime    1458644 non-null  datetime64[ns]\n",
            " 3   passenger_count     1458644 non-null  int64         \n",
            " 4   pickup_longitude    1458644 non-null  float64       \n",
            " 5   pickup_latitude     1458644 non-null  float64       \n",
            " 6   dropoff_longitude   1458644 non-null  float64       \n",
            " 7   dropoff_latitude    1458644 non-null  float64       \n",
            " 8   store_and_fwd_flag  1458644 non-null  object        \n",
            " 9   trip_duration       1458644 non-null  int64         \n",
            "dtypes: datetime64[ns](2), float64(4), int64(3), object(1)\n",
            "memory usage: 111.3+ MB\n"
          ]
        }
      ]
    },
    {
      "cell_type": "markdown",
      "source": [
        "***Bring in the statistics.*** *📄*"
      ],
      "metadata": {
        "id": "dOd_a3iIl32y"
      }
    },
    {
      "cell_type": "code",
      "source": [
        "nyc_df.describe()"
      ],
      "metadata": {
        "colab": {
          "base_uri": "https://localhost:8080/",
          "height": 0
        },
        "id": "PbYJ82Ghl2eE",
        "outputId": "39985869-e8f9-4e55-97b1-a8f36d2159ef"
      },
      "execution_count": 12,
      "outputs": [
        {
          "output_type": "execute_result",
          "data": {
            "text/html": [
              "<div>\n",
              "<style scoped>\n",
              "    .dataframe tbody tr th:only-of-type {\n",
              "        vertical-align: middle;\n",
              "    }\n",
              "\n",
              "    .dataframe tbody tr th {\n",
              "        vertical-align: top;\n",
              "    }\n",
              "\n",
              "    .dataframe thead th {\n",
              "        text-align: right;\n",
              "    }\n",
              "</style>\n",
              "<table border=\"1\" class=\"dataframe\">\n",
              "  <thead>\n",
              "    <tr style=\"text-align: right;\">\n",
              "      <th></th>\n",
              "      <th>vendor_id</th>\n",
              "      <th>passenger_count</th>\n",
              "      <th>pickup_longitude</th>\n",
              "      <th>pickup_latitude</th>\n",
              "      <th>dropoff_longitude</th>\n",
              "      <th>dropoff_latitude</th>\n",
              "      <th>trip_duration</th>\n",
              "    </tr>\n",
              "  </thead>\n",
              "  <tbody>\n",
              "    <tr>\n",
              "      <th>count</th>\n",
              "      <td>1.458644e+06</td>\n",
              "      <td>1.458644e+06</td>\n",
              "      <td>1.458644e+06</td>\n",
              "      <td>1.458644e+06</td>\n",
              "      <td>1.458644e+06</td>\n",
              "      <td>1.458644e+06</td>\n",
              "      <td>1.458644e+06</td>\n",
              "    </tr>\n",
              "    <tr>\n",
              "      <th>mean</th>\n",
              "      <td>1.534950e+00</td>\n",
              "      <td>1.664530e+00</td>\n",
              "      <td>-7.397349e+01</td>\n",
              "      <td>4.075092e+01</td>\n",
              "      <td>-7.397342e+01</td>\n",
              "      <td>4.075180e+01</td>\n",
              "      <td>9.594923e+02</td>\n",
              "    </tr>\n",
              "    <tr>\n",
              "      <th>std</th>\n",
              "      <td>4.987772e-01</td>\n",
              "      <td>1.314242e+00</td>\n",
              "      <td>7.090186e-02</td>\n",
              "      <td>3.288119e-02</td>\n",
              "      <td>7.064327e-02</td>\n",
              "      <td>3.589056e-02</td>\n",
              "      <td>5.237432e+03</td>\n",
              "    </tr>\n",
              "    <tr>\n",
              "      <th>min</th>\n",
              "      <td>1.000000e+00</td>\n",
              "      <td>0.000000e+00</td>\n",
              "      <td>-1.219333e+02</td>\n",
              "      <td>3.435970e+01</td>\n",
              "      <td>-1.219333e+02</td>\n",
              "      <td>3.218114e+01</td>\n",
              "      <td>1.000000e+00</td>\n",
              "    </tr>\n",
              "    <tr>\n",
              "      <th>25%</th>\n",
              "      <td>1.000000e+00</td>\n",
              "      <td>1.000000e+00</td>\n",
              "      <td>-7.399187e+01</td>\n",
              "      <td>4.073735e+01</td>\n",
              "      <td>-7.399133e+01</td>\n",
              "      <td>4.073588e+01</td>\n",
              "      <td>3.970000e+02</td>\n",
              "    </tr>\n",
              "    <tr>\n",
              "      <th>50%</th>\n",
              "      <td>2.000000e+00</td>\n",
              "      <td>1.000000e+00</td>\n",
              "      <td>-7.398174e+01</td>\n",
              "      <td>4.075410e+01</td>\n",
              "      <td>-7.397975e+01</td>\n",
              "      <td>4.075452e+01</td>\n",
              "      <td>6.620000e+02</td>\n",
              "    </tr>\n",
              "    <tr>\n",
              "      <th>75%</th>\n",
              "      <td>2.000000e+00</td>\n",
              "      <td>2.000000e+00</td>\n",
              "      <td>-7.396733e+01</td>\n",
              "      <td>4.076836e+01</td>\n",
              "      <td>-7.396301e+01</td>\n",
              "      <td>4.076981e+01</td>\n",
              "      <td>1.075000e+03</td>\n",
              "    </tr>\n",
              "    <tr>\n",
              "      <th>max</th>\n",
              "      <td>2.000000e+00</td>\n",
              "      <td>9.000000e+00</td>\n",
              "      <td>-6.133553e+01</td>\n",
              "      <td>5.188108e+01</td>\n",
              "      <td>-6.133553e+01</td>\n",
              "      <td>4.392103e+01</td>\n",
              "      <td>3.526282e+06</td>\n",
              "    </tr>\n",
              "  </tbody>\n",
              "</table>\n",
              "</div>"
            ],
            "text/plain": [
              "          vendor_id  passenger_count  ...  dropoff_latitude  trip_duration\n",
              "count  1.458644e+06     1.458644e+06  ...      1.458644e+06   1.458644e+06\n",
              "mean   1.534950e+00     1.664530e+00  ...      4.075180e+01   9.594923e+02\n",
              "std    4.987772e-01     1.314242e+00  ...      3.589056e-02   5.237432e+03\n",
              "min    1.000000e+00     0.000000e+00  ...      3.218114e+01   1.000000e+00\n",
              "25%    1.000000e+00     1.000000e+00  ...      4.073588e+01   3.970000e+02\n",
              "50%    2.000000e+00     1.000000e+00  ...      4.075452e+01   6.620000e+02\n",
              "75%    2.000000e+00     2.000000e+00  ...      4.076981e+01   1.075000e+03\n",
              "max    2.000000e+00     9.000000e+00  ...      4.392103e+01   3.526282e+06\n",
              "\n",
              "[8 rows x 7 columns]"
            ]
          },
          "metadata": {},
          "execution_count": 12
        }
      ]
    },
    {
      "cell_type": "markdown",
      "source": [
        "***Points to be noted.*** *📝*\n",
        "* *Passenger count ranges from 0 to 9, but we will have to remove the rows where passenger count is 0 since our goal is to find the trip duration and this leads us nowhere. It also seems to have some outliers.*\n",
        "* *Rest of the data seems fine but trip_duration is bit shaddy, the 75th percentile is 1.075000e+03 and the max value is 3.526282e+06 which indicates it is holding some outliers which needs to be removed.*"
      ],
      "metadata": {
        "id": "MQdHrvmxp6m6"
      }
    },
    {
      "cell_type": "markdown",
      "source": [
        "***You have no passengers you have no use!***"
      ],
      "metadata": {
        "id": "R-ei9JoRrznt"
      }
    },
    {
      "cell_type": "code",
      "source": [
        "# Remove the rows where the passenger_count == 0.\n",
        "nyc_df = nyc_df[nyc_df['passenger_count']!=0]"
      ],
      "metadata": {
        "id": "D024dhXssYqi"
      },
      "execution_count": 13,
      "outputs": []
    },
    {
      "cell_type": "code",
      "source": [
        "# Recheck it.\n",
        "nyc_df[['passenger_count']].value_counts()"
      ],
      "metadata": {
        "colab": {
          "base_uri": "https://localhost:8080/"
        },
        "id": "Vu0l7i2YvTjW",
        "outputId": "4450f12a-f687-4c0c-fcd2-6b8c693336b6"
      },
      "execution_count": 14,
      "outputs": [
        {
          "output_type": "execute_result",
          "data": {
            "text/plain": [
              "passenger_count\n",
              "1                  1033540\n",
              "2                   210318\n",
              "5                    78088\n",
              "3                    59896\n",
              "6                    48333\n",
              "4                    28404\n",
              "7                        3\n",
              "9                        1\n",
              "8                        1\n",
              "dtype: int64"
            ]
          },
          "metadata": {},
          "execution_count": 14
        }
      ]
    },
    {
      "cell_type": "markdown",
      "source": [
        "***Now lets bring in the charts and diagrams for better understanding.*** *😊*"
      ],
      "metadata": {
        "id": "nGk-Boh6w94g"
      }
    },
    {
      "cell_type": "markdown",
      "source": [
        "# **EDA:**  📈📉📊"
      ],
      "metadata": {
        "id": "HITocEHRxNri"
      }
    },
    {
      "cell_type": "code",
      "source": [
        "nyc_df.head(1)"
      ],
      "metadata": {
        "colab": {
          "base_uri": "https://localhost:8080/",
          "height": 0
        },
        "id": "VCYj6G2oxjtu",
        "outputId": "91d02d10-1451-4204-d9b8-53990e861713"
      },
      "execution_count": 15,
      "outputs": [
        {
          "output_type": "execute_result",
          "data": {
            "text/html": [
              "<div>\n",
              "<style scoped>\n",
              "    .dataframe tbody tr th:only-of-type {\n",
              "        vertical-align: middle;\n",
              "    }\n",
              "\n",
              "    .dataframe tbody tr th {\n",
              "        vertical-align: top;\n",
              "    }\n",
              "\n",
              "    .dataframe thead th {\n",
              "        text-align: right;\n",
              "    }\n",
              "</style>\n",
              "<table border=\"1\" class=\"dataframe\">\n",
              "  <thead>\n",
              "    <tr style=\"text-align: right;\">\n",
              "      <th></th>\n",
              "      <th>vendor_id</th>\n",
              "      <th>pickup_datetime</th>\n",
              "      <th>dropoff_datetime</th>\n",
              "      <th>passenger_count</th>\n",
              "      <th>pickup_longitude</th>\n",
              "      <th>pickup_latitude</th>\n",
              "      <th>dropoff_longitude</th>\n",
              "      <th>dropoff_latitude</th>\n",
              "      <th>store_and_fwd_flag</th>\n",
              "      <th>trip_duration</th>\n",
              "    </tr>\n",
              "  </thead>\n",
              "  <tbody>\n",
              "    <tr>\n",
              "      <th>0</th>\n",
              "      <td>2</td>\n",
              "      <td>2016-03-14 17:24:55</td>\n",
              "      <td>2016-03-14 17:32:30</td>\n",
              "      <td>1</td>\n",
              "      <td>-73.982155</td>\n",
              "      <td>40.767937</td>\n",
              "      <td>-73.96463</td>\n",
              "      <td>40.765602</td>\n",
              "      <td>N</td>\n",
              "      <td>455</td>\n",
              "    </tr>\n",
              "  </tbody>\n",
              "</table>\n",
              "</div>"
            ],
            "text/plain": [
              "   vendor_id     pickup_datetime  ... store_and_fwd_flag  trip_duration\n",
              "0          2 2016-03-14 17:24:55  ...                  N            455\n",
              "\n",
              "[1 rows x 10 columns]"
            ]
          },
          "metadata": {},
          "execution_count": 15
        }
      ]
    },
    {
      "cell_type": "code",
      "source": [
        "# Check out the dependent variable.\n",
        "plt.figure(figsize=(10,5))\n",
        "sns.distplot(nyc_df['trip_duration'])\n",
        "plt.show()"
      ],
      "metadata": {
        "colab": {
          "base_uri": "https://localhost:8080/",
          "height": 0
        },
        "id": "60UhvtBv0Zx8",
        "outputId": "d39314c0-72a9-4ef2-df3f-9f82f676e345"
      },
      "execution_count": 16,
      "outputs": [
        {
          "output_type": "display_data",
          "data": {
            "image/png": "[encoded data removed]",
            "text/plain": [
              "<Figure size 720x360 with 1 Axes>"
            ]
          },
          "metadata": {
            "needs_background": "light"
          }
        }
      ]
    },
    {
      "cell_type": "markdown",
      "source": [
        "***trip_duration is positively skewed, can be treated with a log transformation.***"
      ],
      "metadata": {
        "id": "cXERL43x1eeU"
      }
    },
    {
      "cell_type": "code",
      "source": [
        "# Apply log transformation and plot it.\n",
        "plt.figure(figsize=(10,5))\n",
        "plt.title('After log transformation')\n",
        "sns.distplot(np.log10(nyc_df['trip_duration']))\n",
        "plt.show()"
      ],
      "metadata": {
        "colab": {
          "base_uri": "https://localhost:8080/",
          "height": 0
        },
        "id": "xYoSaDCl1uw8",
        "outputId": "1530d06c-3411-4c55-bdd9-8d3c4dd8cae0"
      },
      "execution_count": 17,
      "outputs": [
        {
          "output_type": "display_data",
          "data": {
            "image/png": "[encoded data removed]",
            "text/plain": [
              "<Figure size 720x360 with 1 Axes>"
            ]
          },
          "metadata": {
            "needs_background": "light"
          }
        }
      ]
    },
    {
      "cell_type": "markdown",
      "source": [
        "***Seems perfect! now lets checkout the other features.*** *👀*"
      ],
      "metadata": {
        "id": "oRCh-CLj2YEp"
      }
    },
    {
      "cell_type": "code",
      "source": [
        "# How many vendors do we have.\n",
        "sns.countplot(nyc_df['vendor_id'])\n",
        "plt.show()"
      ],
      "metadata": {
        "colab": {
          "base_uri": "https://localhost:8080/",
          "height": 0
        },
        "id": "4q604nhrzJ79",
        "outputId": "f64dbe67-1f68-4764-82f5-62bfa2fe3d73"
      },
      "execution_count": 18,
      "outputs": [
        {
          "output_type": "display_data",
          "data": {
            "image/png": "[encoded data removed]",
            "text/plain": [
              "<Figure size 432x288 with 1 Axes>"
            ]
          },
          "metadata": {
            "needs_background": "light"
          }
        }
      ]
    },
    {
      "cell_type": "code",
      "source": [
        "# Passenger count.\n",
        "plt.figure(figsize=(10,5))\n",
        "sns.countplot(nyc_df['passenger_count'])\n",
        "plt.show()"
      ],
      "metadata": {
        "colab": {
          "base_uri": "https://localhost:8080/",
          "height": 0
        },
        "id": "l18Z2dff2v_8",
        "outputId": "0825c032-2074-4afc-f1fb-a1ea89f56d02"
      },
      "execution_count": 19,
      "outputs": [
        {
          "output_type": "display_data",
          "data": {
            "image/png": "[encoded data removed]",
            "text/plain": [
              "<Figure size 720x360 with 1 Axes>"
            ]
          },
          "metadata": {
            "needs_background": "light"
          }
        }
      ]
    },
    {
      "cell_type": "markdown",
      "source": [
        "***What did we see:*** *👀*\n",
        "* vendor 2 has made most of the trips, which could mean vendor 2 is most preferred.\n",
        "* Most of the trips contain single passenger whereas 7,8,9 passengers are rare."
      ],
      "metadata": {
        "id": "7NDUwhPn49D6"
      }
    }
  ]
}